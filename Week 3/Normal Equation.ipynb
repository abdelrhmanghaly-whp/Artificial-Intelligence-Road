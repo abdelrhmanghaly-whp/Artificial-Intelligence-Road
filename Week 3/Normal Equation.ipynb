{
 "cells": [
  {
   "cell_type": "code",
   "execution_count": 2,
   "id": "17480396-093a-46dd-89e5-60da0f22b18b",
   "metadata": {},
   "outputs": [],
   "source": [
    "import numpy as np\n",
    "import pandas as pd\n",
    "import os\n",
    "os.chdir(r\"C:\\Users\\N..C..C\\Downloads\\Documents\")"
   ]
  },
  {
   "cell_type": "code",
   "execution_count": 3,
   "id": "cb5e018a-3ef2-4da7-833a-ba40e286813d",
   "metadata": {},
   "outputs": [
    {
     "data": {
      "text/html": [
       "<div>\n",
       "<style scoped>\n",
       "    .dataframe tbody tr th:only-of-type {\n",
       "        vertical-align: middle;\n",
       "    }\n",
       "\n",
       "    .dataframe tbody tr th {\n",
       "        vertical-align: top;\n",
       "    }\n",
       "\n",
       "    .dataframe thead th {\n",
       "        text-align: right;\n",
       "    }\n",
       "</style>\n",
       "<table border=\"1\" class=\"dataframe\">\n",
       "  <thead>\n",
       "    <tr style=\"text-align: right;\">\n",
       "      <th></th>\n",
       "      <th>youtube</th>\n",
       "      <th>facebook</th>\n",
       "      <th>newspaper</th>\n",
       "      <th>sales</th>\n",
       "    </tr>\n",
       "  </thead>\n",
       "  <tbody>\n",
       "    <tr>\n",
       "      <th>0</th>\n",
       "      <td>84.72</td>\n",
       "      <td>19.20</td>\n",
       "      <td>48.96</td>\n",
       "      <td>12.60</td>\n",
       "    </tr>\n",
       "    <tr>\n",
       "      <th>1</th>\n",
       "      <td>351.48</td>\n",
       "      <td>33.96</td>\n",
       "      <td>51.84</td>\n",
       "      <td>25.68</td>\n",
       "    </tr>\n",
       "    <tr>\n",
       "      <th>2</th>\n",
       "      <td>135.48</td>\n",
       "      <td>20.88</td>\n",
       "      <td>46.32</td>\n",
       "      <td>14.28</td>\n",
       "    </tr>\n",
       "    <tr>\n",
       "      <th>3</th>\n",
       "      <td>116.64</td>\n",
       "      <td>1.80</td>\n",
       "      <td>36.00</td>\n",
       "      <td>11.52</td>\n",
       "    </tr>\n",
       "    <tr>\n",
       "      <th>4</th>\n",
       "      <td>318.72</td>\n",
       "      <td>24.00</td>\n",
       "      <td>0.36</td>\n",
       "      <td>20.88</td>\n",
       "    </tr>\n",
       "    <tr>\n",
       "      <th>...</th>\n",
       "      <td>...</td>\n",
       "      <td>...</td>\n",
       "      <td>...</td>\n",
       "      <td>...</td>\n",
       "    </tr>\n",
       "    <tr>\n",
       "      <th>166</th>\n",
       "      <td>45.84</td>\n",
       "      <td>4.44</td>\n",
       "      <td>16.56</td>\n",
       "      <td>9.12</td>\n",
       "    </tr>\n",
       "    <tr>\n",
       "      <th>167</th>\n",
       "      <td>113.04</td>\n",
       "      <td>5.88</td>\n",
       "      <td>9.72</td>\n",
       "      <td>11.64</td>\n",
       "    </tr>\n",
       "    <tr>\n",
       "      <th>168</th>\n",
       "      <td>212.40</td>\n",
       "      <td>11.16</td>\n",
       "      <td>7.68</td>\n",
       "      <td>15.36</td>\n",
       "    </tr>\n",
       "    <tr>\n",
       "      <th>169</th>\n",
       "      <td>340.32</td>\n",
       "      <td>50.40</td>\n",
       "      <td>79.44</td>\n",
       "      <td>30.60</td>\n",
       "    </tr>\n",
       "    <tr>\n",
       "      <th>170</th>\n",
       "      <td>278.52</td>\n",
       "      <td>10.32</td>\n",
       "      <td>10.44</td>\n",
       "      <td>16.08</td>\n",
       "    </tr>\n",
       "  </tbody>\n",
       "</table>\n",
       "<p>171 rows × 4 columns</p>\n",
       "</div>"
      ],
      "text/plain": [
       "     youtube  facebook  newspaper  sales\n",
       "0      84.72     19.20      48.96  12.60\n",
       "1     351.48     33.96      51.84  25.68\n",
       "2     135.48     20.88      46.32  14.28\n",
       "3     116.64      1.80      36.00  11.52\n",
       "4     318.72     24.00       0.36  20.88\n",
       "..       ...       ...        ...    ...\n",
       "166    45.84      4.44      16.56   9.12\n",
       "167   113.04      5.88       9.72  11.64\n",
       "168   212.40     11.16       7.68  15.36\n",
       "169   340.32     50.40      79.44  30.60\n",
       "170   278.52     10.32      10.44  16.08\n",
       "\n",
       "[171 rows x 4 columns]"
      ]
     },
     "execution_count": 3,
     "metadata": {},
     "output_type": "execute_result"
    }
   ],
   "source": [
    "data = pd.read_csv(\"marketData.csv\")\n",
    "data"
   ]
  },
  {
   "cell_type": "code",
   "execution_count": 4,
   "id": "da9d2963-2d0f-4be0-9216-c0baf9bef10c",
   "metadata": {},
   "outputs": [],
   "source": [
    "afterDrop = data.drop(\"sales\", axis=1)\n",
    "y = data[\"sales\"]\n",
    "data.shape\n",
    "np_array = afterDrop.to_numpy()\n",
    "x = data[\"youtube\"]\n",
    "y = data[\"facebook\"]\n",
    "z = data[\"newspaper\"]"
   ]
  },
  {
   "cell_type": "code",
   "execution_count": 11,
   "id": "186c8f32-4763-4203-af85-f57289bdac29",
   "metadata": {},
   "outputs": [],
   "source": [
    "xBais = np.ones((len(x),1))\n",
    "xNew = np.append(xBais, np_array, axis=1) # x\n",
    "xNewTranspose = np.transpose(xNew) # xT\n",
    "xMulitply = xNewTranspose.dot(xNew) # (xT * x)\n",
    "xInverse = np.linalg.inv(xMulitply) # inverse\n",
    "yDot = xNewTranspose.dot(y) # mult y\n",
    "Theta = xInverse.dot(yDot) # final"
   ]
  },
  {
   "cell_type": "code",
   "execution_count": 20,
   "id": "7ee529f4-eded-4bd0-8d6c-448a7be660e8",
   "metadata": {},
   "outputs": [
    {
     "name": "stdout",
     "output_type": "stream",
     "text": [
      "7.105427357601002e-14\n",
      "-1.6653345369377348e-16\n",
      "0.9999999999999997\n",
      "-4.440892098500626e-16\n"
     ]
    }
   ],
   "source": [
    "Theta_0 = Theta[0]\n",
    "Theta_1 = Theta[1]\n",
    "Theta_2 = Theta[2]\n",
    "Theta_3 = Theta[3]\n",
    "print(Theta_0)\n",
    "print(Theta_1)\n",
    "print(Theta_2)\n",
    "print(Theta_3)"
   ]
  },
  {
   "cell_type": "code",
   "execution_count": 21,
   "id": "b5157b8a-da9e-4975-bbdb-26080be282ee",
   "metadata": {},
   "outputs": [
    {
     "name": "stdout",
     "output_type": "stream",
     "text": [
      "19.200000000000028\n"
     ]
    }
   ],
   "source": [
    "def predValues(Theta_0, Theta_1, Theta_2, Theta_3, youtube, facebook, newspaper):\n",
    "    predictedValues = youtube * Theta_1 + facebook * Theta_2 + newspaper * Theta_3 + Theta_0\n",
    "    return predictedValues\n",
    "\n",
    "youtube = 84.72\n",
    "facebook = 19.20\n",
    "newspaper = 48.96\n",
    "print(predValues(Theta_0, Theta_1, Theta_2, Theta_3, youtube, facebook, newspaper))"
   ]
  },
  {
   "cell_type": "code",
   "execution_count": null,
   "id": "f47ff88d-3c71-4a18-9aaf-9e0402f18ff0",
   "metadata": {},
   "outputs": [],
   "source": []
  }
 ],
 "metadata": {
  "kernelspec": {
   "display_name": "Python 3 (ipykernel)",
   "language": "python",
   "name": "python3"
  },
  "language_info": {
   "codemirror_mode": {
    "name": "ipython",
    "version": 3
   },
   "file_extension": ".py",
   "mimetype": "text/x-python",
   "name": "python",
   "nbconvert_exporter": "python",
   "pygments_lexer": "ipython3",
   "version": "3.10.8"
  }
 },
 "nbformat": 4,
 "nbformat_minor": 5
}
